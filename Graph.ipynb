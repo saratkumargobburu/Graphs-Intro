{
 "cells": [
  {
   "cell_type": "markdown",
   "id": "545f5220",
   "metadata": {},
   "source": [
    "# Graph's"
   ]
  },
  {
   "cell_type": "code",
   "execution_count": 3,
   "id": "439ca0ec",
   "metadata": {},
   "outputs": [
    {
     "name": "stdout",
     "output_type": "stream",
     "text": [
      "{'A': ['B', 'C'], 'B': ['A'], 'C': ['A']}\n"
     ]
    }
   ],
   "source": [
    "#Graph Data structure \n",
    "#insertion of edge and node to graph undirected\n",
    "def add_node(V):\n",
    "    if V in graph:\n",
    "        print(\"there is no vertex called \",V)\n",
    "    else:\n",
    "        graph[V]=[]\n",
    "def add_edge(v1,v2):\n",
    "    if v1 not in graph:\n",
    "        print(\"The is no vertex \",v1)\n",
    "    elif v2 not in graph:\n",
    "        print(\"The is no vertex \",v2)\n",
    "    else:\n",
    "        graph[v1].append(v2)\n",
    "        graph[v2].append(v1)\n",
    "graph={}\n",
    "add_node(\"A\")\n",
    "add_node(\"B\")\n",
    "add_node(\"C\")\n",
    "add_edge(\"A\",\"B\")\n",
    "add_edge(\"A\",\"C\")\n",
    "print(graph)"
   ]
  },
  {
   "cell_type": "code",
   "execution_count": 6,
   "id": "78261840",
   "metadata": {},
   "outputs": [
    {
     "name": "stdout",
     "output_type": "stream",
     "text": [
      "{'A': ['B', 'C'], 'B': [], 'C': []}\n"
     ]
    }
   ],
   "source": [
    "#Graph directed\n",
    "def add_node(V):\n",
    "    if V in graph:\n",
    "        print(\"there is no vertex called \",V)\n",
    "    else:\n",
    "        graph[V]=[]\n",
    "def add_edge(v1,v2): #v1 is the first vertex i  the graph and v2 is the second vertex\n",
    "    if v1 not in graph:\n",
    "        print(\"The is no vertex \",v1)\n",
    "    elif v2 not in graph:\n",
    "        print(\"The is no vertex \",v2)\n",
    "    else:\n",
    "        graph[v1].append(v2)\n",
    "graph={}\n",
    "add_node(\"A\")\n",
    "add_node(\"B\")\n",
    "add_node(\"C\")\n",
    "add_edge(\"A\",\"B\")\n",
    "add_edge(\"A\",\"C\")\n",
    "print(graph)"
   ]
  },
  {
   "cell_type": "code",
   "execution_count": 8,
   "id": "5d64df5f",
   "metadata": {},
   "outputs": [
    {
     "name": "stdout",
     "output_type": "stream",
     "text": [
      "{'A': [['B', 8], ['C', 9]], 'B': [['A', 8]], 'C': [['A', 9]]}\n"
     ]
    }
   ],
   "source": [
    "#Graph with cost\n",
    "def add_node(V):\n",
    "    if V in graph:\n",
    "        print(\"there is no vertex called \",V)\n",
    "    else:\n",
    "        graph[V]=[]\n",
    "def add_edge(v1,v2,cost): #v1 is the first vertex i  the graph and v2 is the second vertex\n",
    "    if v1 not in graph:\n",
    "        print(\"The is no vertex \",v1)\n",
    "    elif v2 not in graph:\n",
    "        print(\"The is no vertex \",v2)\n",
    "    else:\n",
    "        l1=[v1,cost]\n",
    "        l2=[v2,cost]\n",
    "        graph[v1].append(l2)\n",
    "        graph[v2].append(l1)\n",
    "        \n",
    "graph={}\n",
    "add_node(\"A\")\n",
    "add_node(\"B\")\n",
    "add_node(\"C\")\n",
    "add_edge(\"A\",\"B\",8)\n",
    "add_edge(\"A\",\"C\",9)\n",
    "print(graph)"
   ]
  },
  {
   "cell_type": "code",
   "execution_count": 5,
   "id": "68ce5180",
   "metadata": {},
   "outputs": [
    {
     "name": "stdout",
     "output_type": "stream",
     "text": [
      "the graph before node deleton \n",
      " {'A': ['B', 'C'], 'B': ['A'], 'C': ['A']}\n",
      "the graph before edge deletion \n",
      " {'A': ['B'], 'B': ['A']}\n",
      "{'A': [], 'B': []}\n"
     ]
    }
   ],
   "source": [
    "#deletion of the node in the graph\n",
    "def add_node(V):\n",
    "    if V in graph:\n",
    "        print(\"there is no vertex called \",V)\n",
    "    else:\n",
    "        graph[V]=[]\n",
    "def add_edge(v1,v2):\n",
    "    if v1 not in graph:\n",
    "        print(\"The is no vertex \",v1)\n",
    "    elif v2 not in graph:\n",
    "        print(\"The is no vertex \",v2)\n",
    "    else:\n",
    "        graph[v1].append(v2)\n",
    "        graph[v2].append(v1)\n",
    "def delete_node(v):\n",
    "    if v not in graph:\n",
    "        print(v,\"Doesnt exit in the graph\")\n",
    "    else:\n",
    "        graph.pop(v)\n",
    "        for i in graph:\n",
    "            li=graph[i]\n",
    "            for j in li:\n",
    "                if v==j[0]:\n",
    "                    li.remove(v)\n",
    "def delete_edge(v1,v2):\n",
    "    if v1 not in graph:\n",
    "        print(\"the graph doesnt exits \",v1)\n",
    "    if v2 not in graph:\n",
    "        print(\"the graph doesnt exits \",v2)\n",
    "    else:\n",
    "        if v2 in graph[v1]:\n",
    "            graph[v1].remove(v2)\n",
    "            graph[v2].remove(v1)\n",
    "        \n",
    "graph={}\n",
    "add_node(\"A\")\n",
    "add_node(\"B\")\n",
    "add_node(\"C\")\n",
    "add_edge(\"A\",\"B\")\n",
    "add_edge(\"A\",\"C\")\n",
    "print(\"the graph before node deleton \\n\",graph)\n",
    "delete_node(\"C\")\n",
    "print(\"the graph before edge deletion \\n\",graph)\n",
    "delete_edge(\"A\",\"B\")\n",
    "print(graph)"
   ]
  },
  {
   "cell_type": "code",
   "execution_count": 6,
   "id": "76a218ca",
   "metadata": {},
   "outputs": [
    {
     "name": "stdout",
     "output_type": "stream",
     "text": [
      "the graph before node deleton \n",
      " {'A': ['B', 'C'], 'B': [], 'C': []}\n",
      "the graph before edge deletion \n",
      " {'A': ['B'], 'B': []}\n",
      "{'A': [], 'B': []}\n"
     ]
    }
   ],
   "source": [
    "#Graph directed\n",
    "def add_node(V):\n",
    "    if V in graph:\n",
    "        print(\"there is no vertex called \",V)\n",
    "    else:\n",
    "        graph[V]=[]\n",
    "def add_edge(v1,v2): #v1 is the first vertex i  the graph and v2 is the second vertex\n",
    "    if v1 not in graph:\n",
    "        print(\"The is no vertex \",v1)\n",
    "    elif v2 not in graph:\n",
    "        print(\"The is no vertex \",v2)\n",
    "    else:\n",
    "        graph[v1].append(v2)\n",
    "def delete_node(v):\n",
    "    if v not in graph:\n",
    "        print(v,\"Doesnt exit in the graph\")\n",
    "    else:\n",
    "        graph.pop(v)\n",
    "        for i in graph:\n",
    "            li=graph[i]\n",
    "            for j in li:\n",
    "                if v==j[0]:\n",
    "                    li.remove(v)\n",
    "def delete_edge(v1,v2):\n",
    "    if v1 not in graph:\n",
    "        print(\"the graph doesnt exits \",v1)\n",
    "    if v2 not in graph:\n",
    "        print(\"the graph doesnt exits \",v2)\n",
    "    else:\n",
    "        if v2 in graph[v1]:\n",
    "            graph[v1].remove(v2)\n",
    "graph={}\n",
    "add_node(\"A\")\n",
    "add_node(\"B\")\n",
    "add_node(\"C\")\n",
    "add_edge(\"A\",\"B\")\n",
    "add_edge(\"A\",\"C\")\n",
    "print(\"the graph before node deleton \\n\",graph)\n",
    "delete_node(\"C\")\n",
    "print(\"the graph before edge deletion \\n\",graph)\n",
    "delete_edge(\"A\",\"B\")\n",
    "print(graph)"
   ]
  },
  {
   "cell_type": "code",
   "execution_count": 10,
   "id": "335b5437",
   "metadata": {},
   "outputs": [
    {
     "name": "stdout",
     "output_type": "stream",
     "text": [
      "the graph before node deleton \n",
      " {'A': [['B', 10], ['C', 20]], 'B': [['A', 10]], 'C': [['A', 20]]}\n",
      "the graph before edge deletion \n",
      " {'A': [['B', 10]], 'B': [['A', 10]]}\n",
      "{'A': [], 'B': []}\n"
     ]
    }
   ],
   "source": [
    "#Graph directed\n",
    "def add_node(V):\n",
    "    if V in graph:\n",
    "        print(\"there is no vertex called \",V)\n",
    "    else:\n",
    "        graph[V]=[]\n",
    "def add_edge(v1,v2,cost): #v1 is the first vertex i  the graph and v2 is the second vertex\n",
    "    if v1 not in graph:\n",
    "        print(\"The is no vertex \",v1)\n",
    "    elif v2 not in graph:\n",
    "        print(\"The is no vertex \",v2)\n",
    "    else:\n",
    "        l1=[v1,cost]\n",
    "        l2=[v2,cost]\n",
    "        graph[v1].append(l2)\n",
    "        graph[v2].append(l1)\n",
    "def delete_node(v):\n",
    "    if v not in graph:\n",
    "        print(v,\"Doesnt exit in the graph\")\n",
    "    else:\n",
    "        graph.pop(v)\n",
    "        for i in graph:\n",
    "            li=graph[i]\n",
    "            for j in li:\n",
    "                if v==j[0]:\n",
    "                    li.remove(j)\n",
    "def delete_edge(v1,v2,cost):\n",
    "    if v1 not in graph:\n",
    "        print(\"the graph doesnt exits \",v1)\n",
    "    if v2 not in graph:\n",
    "        print(\"the graph doesnt exits \",v2)\n",
    "    else:\n",
    "        l1=[v1,cost]\n",
    "        l2=[v2,cost]\n",
    "        if l2 in graph[v1]:\n",
    "            graph[v1].remove(l2)\n",
    "            graph[v2].remove(l1)\n",
    "        \n",
    "\n",
    "graph={}\n",
    "add_node(\"A\")\n",
    "add_node(\"B\")\n",
    "add_node(\"C\")\n",
    "add_edge(\"A\",\"B\",10)\n",
    "add_edge(\"A\",\"C\",20)\n",
    "print(\"the graph before node deleton \\n\",graph)\n",
    "delete_node(\"C\")\n",
    "print(\"the graph before edge deletion \\n\",graph)\n",
    "delete_edge(\"A\",\"B\",10)\n",
    "print(graph)"
   ]
  },
  {
   "cell_type": "code",
   "execution_count": null,
   "id": "d2a6be17",
   "metadata": {},
   "outputs": [],
   "source": [
    "#Traversal algoritham will be updated soon"
   ]
  }
 ],
 "metadata": {
  "kernelspec": {
   "display_name": "Python 3 (ipykernel)",
   "language": "python",
   "name": "python3"
  },
  "language_info": {
   "codemirror_mode": {
    "name": "ipython",
    "version": 3
   },
   "file_extension": ".py",
   "mimetype": "text/x-python",
   "name": "python",
   "nbconvert_exporter": "python",
   "pygments_lexer": "ipython3",
   "version": "3.9.7"
  }
 },
 "nbformat": 4,
 "nbformat_minor": 5
}
